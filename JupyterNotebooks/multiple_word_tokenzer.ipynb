{
 "cells": [
  {
   "cell_type": "markdown",
   "id": "58065a4c",
   "metadata": {},
   "source": [
    "### MULTIPLE SENTENCE TOKENIZATION"
   ]
  },
  {
   "cell_type": "code",
   "execution_count": 1,
   "id": "d18e5636",
   "metadata": {},
   "outputs": [
    {
     "name": "stdout",
     "output_type": "stream",
     "text": [
      "Sentences: ['I love learning NLP', 'NLP is fun', 'I love Python']\n"
     ]
    }
   ],
   "source": [
    "sentences = [\n",
    "    \"I love learning NLP\",\n",
    "    \"NLP is fun\",\n",
    "    \"I love Python\"\n",
    "]\n",
    "print('Sentences:', sentences)"
   ]
  },
  {
   "cell_type": "code",
   "execution_count": 2,
   "id": "acfe1de0",
   "metadata": {},
   "outputs": [
    {
     "name": "stdout",
     "output_type": "stream",
     "text": [
      "All Words:  ['i', 'love', 'learning', 'nlp', 'nlp', 'is', 'fun', 'i', 'love', 'python']\n"
     ]
    }
   ],
   "source": [
    "all_words = []\n",
    "for sentence in sentences:\n",
    "    words = sentence.lower().split()\n",
    "    all_words.extend(words)\n",
    "print(\"All Words: \", all_words)"
   ]
  },
  {
   "cell_type": "code",
   "execution_count": 3,
   "id": "7732a6af",
   "metadata": {},
   "outputs": [
    {
     "name": "stdout",
     "output_type": "stream",
     "text": [
      "vocab: {'i': 1, 'love': 2, 'learning': 3, 'nlp': 4, 'is': 5, 'fun': 6, 'python': 7}\n"
     ]
    }
   ],
   "source": [
    "vocab = {}\n",
    "id_counter = 1\n",
    "for word in all_words:\n",
    "    if word not in vocab:\n",
    "        vocab[word] = id_counter\n",
    "        id_counter += 1\n",
    "print(\"vocab:\", vocab)"
   ]
  },
  {
   "cell_type": "code",
   "execution_count": 4,
   "id": "51988395",
   "metadata": {},
   "outputs": [
    {
     "name": "stdout",
     "output_type": "stream",
     "text": [
      "Encoded Sentences: [[1, 2, 3, 4], [4, 5, 6], [1, 2, 7]]\n"
     ]
    }
   ],
   "source": [
    "encoded_sentence = []\n",
    "for sentence in sentences:\n",
    "    words = sentence.lower().split()\n",
    "    encoded = [vocab[word] for word in words]\n",
    "    encoded_sentence.append(encoded)\n",
    "print(\"Encoded Sentences:\", encoded_sentence)"
   ]
  }
 ],
 "metadata": {
  "kernelspec": {
   "display_name": "nlp_env",
   "language": "python",
   "name": "python3"
  },
  "language_info": {
   "codemirror_mode": {
    "name": "ipython",
    "version": 3
   },
   "file_extension": ".py",
   "mimetype": "text/x-python",
   "name": "python",
   "nbconvert_exporter": "python",
   "pygments_lexer": "ipython3",
   "version": "3.11.13"
  }
 },
 "nbformat": 4,
 "nbformat_minor": 5
}
