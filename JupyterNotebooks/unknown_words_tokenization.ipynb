{
 "cells": [
  {
   "cell_type": "markdown",
   "id": "fd4a44ef",
   "metadata": {},
   "source": [
    "### HANDLING UNKNOWN WORDS"
   ]
  },
  {
   "cell_type": "code",
   "execution_count": 8,
   "id": "f947e8af",
   "metadata": {},
   "outputs": [],
   "source": [
    "sentences = [\n",
    "    \"I love learnig NLP\",\n",
    "    \"NLP is fun\",\n",
    "    \"I love Python\"\n",
    "]"
   ]
  },
  {
   "cell_type": "code",
   "execution_count": 9,
   "id": "9d28440d",
   "metadata": {},
   "outputs": [],
   "source": [
    "vocab = {\"<UNK>\": 0}\n",
    "id_counter = 1"
   ]
  },
  {
   "cell_type": "code",
   "execution_count": 10,
   "id": "ab6c4c09",
   "metadata": {},
   "outputs": [
    {
     "name": "stdout",
     "output_type": "stream",
     "text": [
      "{'<UNK>': 0, 'i': 1, 'love': 2, 'learnig': 3, 'nlp': 4, 'is': 5, 'fun': 6, 'python': 7}\n"
     ]
    }
   ],
   "source": [
    "for sentence in sentences:\n",
    "    words = sentence.lower().split()\n",
    "    for word in words:\n",
    "        if word not in vocab:\n",
    "            vocab[word] = id_counter\n",
    "            id_counter += 1\n",
    "print(vocab)"
   ]
  },
  {
   "cell_type": "code",
   "execution_count": 11,
   "id": "1bbb5c43",
   "metadata": {},
   "outputs": [],
   "source": [
    "def encode(sentence, vocab):\n",
    "    words = sentence.lower().split()\n",
    "    encoded = [vocab.get(word, 0) for word in words]\n",
    "    return encoded"
   ]
  },
  {
   "cell_type": "code",
   "execution_count": 12,
   "id": "8046557c",
   "metadata": {},
   "outputs": [],
   "source": [
    "id_to_word = {idx: word for word, idx in vocab.items()}"
   ]
  },
  {
   "cell_type": "code",
   "execution_count": 13,
   "id": "9062fea3",
   "metadata": {},
   "outputs": [],
   "source": [
    "def decode(encoded, id_to_word):\n",
    "    return [id_to_word[idx] for idx in encoded]"
   ]
  },
  {
   "cell_type": "code",
   "execution_count": 14,
   "id": "1f0f11fd",
   "metadata": {},
   "outputs": [
    {
     "name": "stdout",
     "output_type": "stream",
     "text": [
      "\n",
      "Sentence: I Love NLP\n",
      "Encoded: [1, 2, 4]\n",
      "Decoded: ['i', 'love', 'nlp']\n",
      "\n",
      "Sentence: I enjoy AI\n",
      "Encoded: [1, 0, 0]\n",
      "Decoded: ['i', '<UNK>', '<UNK>']\n"
     ]
    }
   ],
   "source": [
    "test_sentences = [\n",
    "    \"I Love NLP\",\n",
    "    \"I enjoy AI\"\n",
    "]\n",
    "for s in test_sentences:\n",
    "    encoded = encode(s, vocab)\n",
    "    decoded = decode(encoded, id_to_word)\n",
    "    print(\"\\nSentence:\", s)\n",
    "    print(\"Encoded:\", encoded)\n",
    "    print(\"Decoded:\", decoded)"
   ]
  }
 ],
 "metadata": {
  "kernelspec": {
   "display_name": "nlp_env",
   "language": "python",
   "name": "python3"
  },
  "language_info": {
   "codemirror_mode": {
    "name": "ipython",
    "version": 3
   },
   "file_extension": ".py",
   "mimetype": "text/x-python",
   "name": "python",
   "nbconvert_exporter": "python",
   "pygments_lexer": "ipython3",
   "version": "3.11.13"
  }
 },
 "nbformat": 4,
 "nbformat_minor": 5
}
